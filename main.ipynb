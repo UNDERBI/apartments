{
  "nbformat": 4,
  "nbformat_minor": 0,
  "metadata": {
    "colab": {
      "provenance": []
    },
    "kernelspec": {
      "display_name": "Python 3",
      "language": "python",
      "name": "python3"
    },
    "language_info": {
      "codemirror_mode": {
        "name": "ipython",
        "version": 3
      },
      "file_extension": ".py",
      "mimetype": "text/x-python",
      "name": "python",
      "nbconvert_exporter": "python",
      "pygments_lexer": "ipython3",
      "version": "3.7.6"
    }
  },
  "cells": [
    {
      "cell_type": "code",
      "metadata": {
        "id": "SGNAtzeNFavW"
      },
      "source": [
        "import pandas as pd\n",
        "import numpy as np\n",
        "import matplotlib.pyplot as plt\n",
        "import seaborn as sns\n",
        "import warnings\n",
        "warnings.filterwarnings(\"ignore\")"
      ],
      "execution_count": null,
      "outputs": []
    },
    {
      "cell_type": "code",
      "metadata": {
        "colab": {
          "base_uri": "https://localhost:8080/"
        },
        "id": "R-c-6pFLH4T-",
        "outputId": "ecf560dc-d7a9-41ed-a84c-94b66850a10e"
      },
      "source": [
        "from google.colab import drive\n",
        "drive.mount('/content/drive')"
      ],
      "execution_count": null,
      "outputs": [
        {
          "output_type": "stream",
          "text": [
            "Drive already mounted at /content/drive; to attempt to forcibly remount, call drive.mount(\"/content/drive\", force_remount=True).\n"
          ],
          "name": "stdout"
        }
      ]
    },
    {
      "cell_type": "markdown",
      "metadata": {
        "id": "QI_gbzoDFavZ"
      },
      "source": [
        "1.1 ЗАГРУЗКА ДАННЫХ\n",
        "\n",
        "Данные загружены. Представлен код по загрузке, отражено в отчете. Результаты очищены от технической информации, отражено в отчете.\n",
        "\n",
        "1.2 ПРЕДОБРАБОТКА ДАННЫХ\n",
        "\n",
        "Необходимо проанализировать значения атрибутов датасета, проанализировать значения, которыми заполнены признаки и обработать их при необходимости, отразить в отчете."
      ]
    },
    {
      "cell_type": "markdown",
      "metadata": {
        "id": "Ept7Uf6dFava"
      },
      "source": [
        "# Модуль 1\n",
        "\n",
        "## 1.1 ЗАГРУЗКА ДАННЫХ"
      ]
    },
    {
      "cell_type": "code",
      "metadata": {
        "id": "kAKulv7PFava"
      },
      "source": [
        "df = pd.read_csv(\"/content/drive/MyDrive/ML&BD/data/real_estate_data.csv\") # загрузка данных"
      ],
      "execution_count": null,
      "outputs": []
    },
    {
      "cell_type": "code",
      "metadata": {
        "colab": {
          "base_uri": "https://localhost:8080/",
          "height": 275
        },
        "id": "oX2eDRXLFavb",
        "scrolled": true,
        "outputId": "feac3930-e59a-4c6a-de1c-0bc24a997734"
      },
      "source": [
        "df.head() "
      ],
      "execution_count": null,
      "outputs": [
        {
          "output_type": "execute_result",
          "data": {
            "text/html": [
              "<div>\n",
              "<style scoped>\n",
              "    .dataframe tbody tr th:only-of-type {\n",
              "        vertical-align: middle;\n",
              "    }\n",
              "\n",
              "    .dataframe tbody tr th {\n",
              "        vertical-align: top;\n",
              "    }\n",
              "\n",
              "    .dataframe thead th {\n",
              "        text-align: right;\n",
              "    }\n",
              "</style>\n",
              "<table border=\"1\" class=\"dataframe\">\n",
              "  <thead>\n",
              "    <tr style=\"text-align: right;\">\n",
              "      <th></th>\n",
              "      <th>id</th>\n",
              "      <th>type</th>\n",
              "      <th>sub_type</th>\n",
              "      <th>start_date</th>\n",
              "      <th>end_date</th>\n",
              "      <th>listing_type</th>\n",
              "      <th>tom</th>\n",
              "      <th>building_age</th>\n",
              "      <th>total_floor_count</th>\n",
              "      <th>floor_no</th>\n",
              "      <th>room_count</th>\n",
              "      <th>size</th>\n",
              "      <th>address</th>\n",
              "      <th>furnished</th>\n",
              "      <th>heating_type</th>\n",
              "      <th>price</th>\n",
              "      <th>price_currency</th>\n",
              "    </tr>\n",
              "  </thead>\n",
              "  <tbody>\n",
              "    <tr>\n",
              "      <th>0</th>\n",
              "      <td>1</td>\n",
              "      <td>Konut</td>\n",
              "      <td>Rezidans</td>\n",
              "      <td>12/10/18</td>\n",
              "      <td>1/9/19</td>\n",
              "      <td>2</td>\n",
              "      <td>30</td>\n",
              "      <td>0</td>\n",
              "      <td>20 ve üzeri</td>\n",
              "      <td>2</td>\n",
              "      <td>2+1</td>\n",
              "      <td>90.0</td>\n",
              "      <td>İstanbul/Kartal/Kordonboyu</td>\n",
              "      <td>NaN</td>\n",
              "      <td>Fancoil</td>\n",
              "      <td>3500.0</td>\n",
              "      <td>TRY</td>\n",
              "    </tr>\n",
              "    <tr>\n",
              "      <th>1</th>\n",
              "      <td>2</td>\n",
              "      <td>Konut</td>\n",
              "      <td>Daire</td>\n",
              "      <td>2/13/19</td>\n",
              "      <td>NaN</td>\n",
              "      <td>1</td>\n",
              "      <td>14</td>\n",
              "      <td>0</td>\n",
              "      <td>20 ve üzeri</td>\n",
              "      <td>20 ve üzeri</td>\n",
              "      <td>1+0</td>\n",
              "      <td>43.0</td>\n",
              "      <td>İstanbul/Kartal/Kordonboyu</td>\n",
              "      <td>NaN</td>\n",
              "      <td>Fancoil</td>\n",
              "      <td>490000.0</td>\n",
              "      <td>TRY</td>\n",
              "    </tr>\n",
              "    <tr>\n",
              "      <th>2</th>\n",
              "      <td>3</td>\n",
              "      <td>Konut</td>\n",
              "      <td>Daire</td>\n",
              "      <td>10/9/18</td>\n",
              "      <td>11/8/18</td>\n",
              "      <td>1</td>\n",
              "      <td>30</td>\n",
              "      <td>0</td>\n",
              "      <td>1</td>\n",
              "      <td>Yüksek Giriş</td>\n",
              "      <td>2+1</td>\n",
              "      <td>NaN</td>\n",
              "      <td>Tekirdağ/Çorlu/Reşadiye</td>\n",
              "      <td>NaN</td>\n",
              "      <td>Fancoil</td>\n",
              "      <td>155000.0</td>\n",
              "      <td>TRY</td>\n",
              "    </tr>\n",
              "    <tr>\n",
              "      <th>3</th>\n",
              "      <td>4</td>\n",
              "      <td>Konut</td>\n",
              "      <td>Rezidans</td>\n",
              "      <td>9/10/18</td>\n",
              "      <td>10/10/18</td>\n",
              "      <td>1</td>\n",
              "      <td>30</td>\n",
              "      <td>3</td>\n",
              "      <td>20 ve üzeri</td>\n",
              "      <td>20 ve üzeri</td>\n",
              "      <td>6+1</td>\n",
              "      <td>450.0</td>\n",
              "      <td>İstanbul/Beşiktaş/Levent</td>\n",
              "      <td>NaN</td>\n",
              "      <td>Fancoil</td>\n",
              "      <td>32500000.0</td>\n",
              "      <td>TRY</td>\n",
              "    </tr>\n",
              "    <tr>\n",
              "      <th>4</th>\n",
              "      <td>5</td>\n",
              "      <td>Konut</td>\n",
              "      <td>Rezidans</td>\n",
              "      <td>12/10/18</td>\n",
              "      <td>1/9/19</td>\n",
              "      <td>1</td>\n",
              "      <td>30</td>\n",
              "      <td>0</td>\n",
              "      <td>20 ve üzeri</td>\n",
              "      <td>2</td>\n",
              "      <td>2+1</td>\n",
              "      <td>90.0</td>\n",
              "      <td>İstanbul/Kartal/Kordonboyu</td>\n",
              "      <td>NaN</td>\n",
              "      <td>Fancoil</td>\n",
              "      <td>1450000.0</td>\n",
              "      <td>TRY</td>\n",
              "    </tr>\n",
              "  </tbody>\n",
              "</table>\n",
              "</div>"
            ],
            "text/plain": [
              "   id   type  sub_type  ... heating_type       price  price_currency\n",
              "0   1  Konut  Rezidans  ...      Fancoil      3500.0             TRY\n",
              "1   2  Konut     Daire  ...      Fancoil    490000.0             TRY\n",
              "2   3  Konut     Daire  ...      Fancoil    155000.0             TRY\n",
              "3   4  Konut  Rezidans  ...      Fancoil  32500000.0             TRY\n",
              "4   5  Konut  Rezidans  ...      Fancoil   1450000.0             TRY\n",
              "\n",
              "[5 rows x 17 columns]"
            ]
          },
          "metadata": {
            "tags": []
          },
          "execution_count": 138
        }
      ]
    },
    {
      "cell_type": "markdown",
      "metadata": {
        "id": "g-QY-5tTFavc"
      },
      "source": [
        "Данные были загружены, код представлен"
      ]
    },
    {
      "cell_type": "markdown",
      "metadata": {
        "id": "HEoIVgM4Favc"
      },
      "source": [
        "## 1.2 ПРЕДОБРАБОТКА ДАННЫХ\n"
      ]
    },
    {
      "cell_type": "code",
      "metadata": {
        "colab": {
          "base_uri": "https://localhost:8080/"
        },
        "id": "ueiYXYC1Favc",
        "outputId": "698a9870-6f64-4ad0-a545-cefb6973d0a9"
      },
      "source": [
        "df.shape # размерность массива данных"
      ],
      "execution_count": null,
      "outputs": [
        {
          "output_type": "execute_result",
          "data": {
            "text/plain": [
              "(403487, 17)"
            ]
          },
          "metadata": {
            "tags": []
          },
          "execution_count": 139
        }
      ]
    },
    {
      "cell_type": "code",
      "metadata": {
        "colab": {
          "base_uri": "https://localhost:8080/"
        },
        "id": "m4DjN_mLFavd",
        "outputId": "7cfb89ec-11b3-4a27-e775-806bceab3887"
      },
      "source": [
        "df.info()"
      ],
      "execution_count": null,
      "outputs": [
        {
          "output_type": "stream",
          "text": [
            "<class 'pandas.core.frame.DataFrame'>\n",
            "RangeIndex: 403487 entries, 0 to 403486\n",
            "Data columns (total 17 columns):\n",
            " #   Column             Non-Null Count   Dtype  \n",
            "---  ------             --------------   -----  \n",
            " 0   id                 403487 non-null  int64  \n",
            " 1   type               403487 non-null  object \n",
            " 2   sub_type           403487 non-null  object \n",
            " 3   start_date         403487 non-null  object \n",
            " 4   end_date           266298 non-null  object \n",
            " 5   listing_type       403487 non-null  int64  \n",
            " 6   tom                403487 non-null  int64  \n",
            " 7   building_age       376097 non-null  object \n",
            " 8   total_floor_count  375466 non-null  object \n",
            " 9   floor_no           368191 non-null  object \n",
            " 10  room_count         403487 non-null  object \n",
            " 11  size               257481 non-null  float64\n",
            " 12  address            403487 non-null  object \n",
            " 13  furnished          0 non-null       float64\n",
            " 14  heating_type       375517 non-null  object \n",
            " 15  price              402772 non-null  float64\n",
            " 16  price_currency     402772 non-null  object \n",
            "dtypes: float64(3), int64(3), object(11)\n",
            "memory usage: 52.3+ MB\n"
          ],
          "name": "stdout"
        }
      ]
    },
    {
      "cell_type": "markdown",
      "metadata": {
        "id": "YZIqtzgbFavd"
      },
      "source": [
        "Имеем 3 признака с типом данных float64, 3 признака с типо данных int64 и 11 признаков с типом данных object.\n",
        "\n",
        "Также можно заметить, что столбец furnished (мебельный) полностью заполнен пропусками данных (NaN)\n",
        "\n",
        "Давайте проверим количество пустых значений в остальных столбцах"
      ]
    },
    {
      "cell_type": "code",
      "metadata": {
        "colab": {
          "base_uri": "https://localhost:8080/"
        },
        "id": "9l7lD_oRFave",
        "outputId": "97c57ab7-af4f-47be-d1ed-231c563b25ff"
      },
      "source": [
        "df.isna().sum() # смотрим на пустые значения в столбцах"
      ],
      "execution_count": null,
      "outputs": [
        {
          "output_type": "execute_result",
          "data": {
            "text/plain": [
              "id                        0\n",
              "type                      0\n",
              "sub_type                  0\n",
              "start_date                0\n",
              "end_date             137189\n",
              "listing_type              0\n",
              "tom                       0\n",
              "building_age          27390\n",
              "total_floor_count     28021\n",
              "floor_no              35296\n",
              "room_count                0\n",
              "size                 146006\n",
              "address                   0\n",
              "furnished            403487\n",
              "heating_type          27970\n",
              "price                   715\n",
              "price_currency          715\n",
              "dtype: int64"
            ]
          },
          "metadata": {
            "tags": []
          },
          "execution_count": 141
        }
      ]
    },
    {
      "cell_type": "markdown",
      "metadata": {
        "id": "zZODaw5nFave"
      },
      "source": [
        "В столбцах end_date, building_age, total_floor_count, floor_no, size, heating_type, price, price_currency"
      ]
    },
    {
      "cell_type": "markdown",
      "metadata": {
        "id": "YUupEfbGFave"
      },
      "source": [
        "Удалим столбец furnished"
      ]
    },
    {
      "cell_type": "code",
      "metadata": {
        "id": "sKqq2NMFFavf"
      },
      "source": [
        "df.drop(\"furnished\", axis = 1, inplace = True)"
      ],
      "execution_count": null,
      "outputs": []
    },
    {
      "cell_type": "markdown",
      "metadata": {
        "id": "Jz9Jwv6mFavf"
      },
      "source": [
        "Также отбросим столбцы с датами"
      ]
    },
    {
      "cell_type": "code",
      "metadata": {
        "id": "GbDVx9OdFavf"
      },
      "source": [
        "df.drop([\"end_date\", \"start_date\"], axis = 1, inplace = True)"
      ],
      "execution_count": null,
      "outputs": []
    },
    {
      "cell_type": "markdown",
      "metadata": {
        "id": "c9CPeDrIFavf"
      },
      "source": [
        "Остальные столбцы попробуем обработать"
      ]
    },
    {
      "cell_type": "code",
      "metadata": {
        "colab": {
          "base_uri": "https://localhost:8080/"
        },
        "id": "PfdmL80GFavf",
        "outputId": "174e030e-14bc-4ce6-addd-1eaac0f84fd1"
      },
      "source": [
        "df[\"total_floor_count\"].value_counts()"
      ],
      "execution_count": null,
      "outputs": [
        {
          "output_type": "execute_result",
          "data": {
            "text/plain": [
              "4              83082\n",
              "3              77956\n",
              "5              70104\n",
              "10-20 arası    36512\n",
              "2              27742\n",
              "6              23348\n",
              "10             12558\n",
              "7              12284\n",
              "8              11207\n",
              "9               9029\n",
              "20 ve üzeri     6679\n",
              "1               4965\n",
              "Name: total_floor_count, dtype: int64"
            ]
          },
          "metadata": {
            "tags": []
          },
          "execution_count": 144
        }
      ]
    },
    {
      "cell_type": "markdown",
      "metadata": {
        "id": "gS4v1A75Favg"
      },
      "source": [
        " Столбец total_floor_count обработаем с помощью замены строк на числовой формат"
      ]
    },
    {
      "cell_type": "code",
      "metadata": {
        "id": "cd_YowwTFavg"
      },
      "source": [
        "df[\"total_floor_count\"].replace(\"10-20 arası\", 15, inplace = True) # заменяем строку 10-20 на 15"
      ],
      "execution_count": null,
      "outputs": []
    },
    {
      "cell_type": "code",
      "metadata": {
        "colab": {
          "base_uri": "https://localhost:8080/"
        },
        "id": "nP_t8tB3Favg",
        "outputId": "ccd9e93e-ff9a-4254-fd6e-ca8c92fda145"
      },
      "source": [
        "df[\"total_floor_count\"].value_counts()"
      ],
      "execution_count": null,
      "outputs": [
        {
          "output_type": "execute_result",
          "data": {
            "text/plain": [
              "4              83082\n",
              "3              77956\n",
              "5              70104\n",
              "15             36512\n",
              "2              27742\n",
              "6              23348\n",
              "10             12558\n",
              "7              12284\n",
              "8              11207\n",
              "9               9029\n",
              "20 ve üzeri     6679\n",
              "1               4965\n",
              "Name: total_floor_count, dtype: int64"
            ]
          },
          "metadata": {
            "tags": []
          },
          "execution_count": 146
        }
      ]
    },
    {
      "cell_type": "code",
      "metadata": {
        "id": "e3nJzX19Favg"
      },
      "source": [
        "df[\"total_floor_count\"].replace(\"20 ve üzeri\", 20, inplace = True) # заменяем строку 20 ve uzeri на 20"
      ],
      "execution_count": null,
      "outputs": []
    },
    {
      "cell_type": "code",
      "metadata": {
        "id": "XzmIn6bBFavh"
      },
      "source": [
        "# заменяем пустые значения\n",
        "df[\"total_floor_count\"].fillna(df[\"total_floor_count\"].median(), inplace = True)"
      ],
      "execution_count": null,
      "outputs": []
    },
    {
      "cell_type": "code",
      "metadata": {
        "id": "ybDpdkgsFavh",
        "scrolled": true
      },
      "source": [
        "df[\"total_floor_count\"] = df[\"total_floor_count\"].astype(\"int64\") # поменяли тип столбца"
      ],
      "execution_count": null,
      "outputs": []
    },
    {
      "cell_type": "markdown",
      "metadata": {
        "id": "jV6YcaLNFavh"
      },
      "source": [
        "Обработали столбец количества этажей"
      ]
    },
    {
      "cell_type": "markdown",
      "metadata": {
        "id": "5WaImy5OFavh"
      },
      "source": [
        "Перейдем к обработке столбца building_age"
      ]
    },
    {
      "cell_type": "code",
      "metadata": {
        "colab": {
          "base_uri": "https://localhost:8080/"
        },
        "id": "PeQOiKmuFavi",
        "outputId": "245b4828-5bd3-41fd-975c-c0da8441facb"
      },
      "source": [
        "df[\"building_age\"].value_counts() # смотрим распределение переменной"
      ],
      "execution_count": null,
      "outputs": [
        {
          "output_type": "execute_result",
          "data": {
            "text/plain": [
              "0              140174\n",
              "6-10 arası      50495\n",
              "11-15 arası     32309\n",
              "16-20 arası     31333\n",
              "1               20355\n",
              "4               19032\n",
              "21-25 arası     18438\n",
              "2               17466\n",
              "3               15651\n",
              "5               13589\n",
              "26-30 arası     10581\n",
              "31-35 arası      4268\n",
              "36-40 arası      1347\n",
              "40 ve üzeri      1059\n",
              "Name: building_age, dtype: int64"
            ]
          },
          "metadata": {
            "tags": []
          },
          "execution_count": 150
        }
      ]
    },
    {
      "cell_type": "code",
      "metadata": {
        "id": "1M1etmCDFavi"
      },
      "source": [],
      "execution_count": null,
      "outputs": []
    },
    {
      "cell_type": "code",
      "metadata": {
        "id": "UCwXdoWFFavi"
      },
      "source": [
        "from sklearn.preprocessing import LabelEncoder"
      ],
      "execution_count": null,
      "outputs": []
    },
    {
      "cell_type": "code",
      "metadata": {
        "id": "vkzLTxfoFavi"
      },
      "source": [
        "le = LabelEncoder()"
      ],
      "execution_count": null,
      "outputs": []
    },
    {
      "cell_type": "code",
      "metadata": {
        "id": "rk6XHyZCFavi"
      },
      "source": [
        "df[\"building_age\"] = le.fit_transform(df[\"building_age\"].astype(str)) # кодируем столбец"
      ],
      "execution_count": null,
      "outputs": []
    },
    {
      "cell_type": "code",
      "metadata": {
        "colab": {
          "base_uri": "https://localhost:8080/"
        },
        "id": "NJsqQbKKFavj",
        "outputId": "205212c1-515b-476b-bcc6-91cd8bce52f9"
      },
      "source": [
        "df[\"building_age\"].value_counts()"
      ],
      "execution_count": null,
      "outputs": [
        {
          "output_type": "execute_result",
          "data": {
            "text/plain": [
              "0     140174\n",
              "13     50495\n",
              "2      32309\n",
              "3      31333\n",
              "14     27390\n",
              "1      20355\n",
              "10     19032\n",
              "5      18438\n",
              "4      17466\n",
              "7      15651\n",
              "12     13589\n",
              "6      10581\n",
              "8       4268\n",
              "9       1347\n",
              "11      1059\n",
              "Name: building_age, dtype: int64"
            ]
          },
          "metadata": {
            "tags": []
          },
          "execution_count": 154
        }
      ]
    },
    {
      "cell_type": "code",
      "metadata": {
        "colab": {
          "base_uri": "https://localhost:8080/"
        },
        "id": "sRInidCGFavj",
        "outputId": "672eb34e-714f-429b-ad85-3868025e6ece"
      },
      "source": [
        "le.classes_"
      ],
      "execution_count": null,
      "outputs": [
        {
          "output_type": "execute_result",
          "data": {
            "text/plain": [
              "array(['0', '1', '11-15 arası', '16-20 arası', '2', '21-25 arası',\n",
              "       '26-30 arası', '3', '31-35 arası', '36-40 arası', '4',\n",
              "       '40 ve üzeri', '5', '6-10 arası', 'nan'], dtype=object)"
            ]
          },
          "metadata": {
            "tags": []
          },
          "execution_count": 155
        }
      ]
    },
    {
      "cell_type": "markdown",
      "metadata": {
        "id": "5ghcFvwJFavj"
      },
      "source": [
        "Обработали столбец возраст здания"
      ]
    },
    {
      "cell_type": "markdown",
      "metadata": {
        "id": "w42xfUt6Favj"
      },
      "source": [
        "Переходим к столбцу floor_no"
      ]
    },
    {
      "cell_type": "code",
      "metadata": {
        "colab": {
          "base_uri": "https://localhost:8080/"
        },
        "id": "Y3_Z4B9SFavj",
        "scrolled": true,
        "outputId": "fa9348b5-2c92-4cf2-ce84-171705b4055c"
      },
      "source": [
        "df[\"floor_no\"].value_counts()"
      ],
      "execution_count": null,
      "outputs": [
        {
          "output_type": "execute_result",
          "data": {
            "text/plain": [
              "2               60914\n",
              "3               32200\n",
              "1               28569\n",
              "Yüksek Giriş    24045\n",
              "Müstakil        21165\n",
              "4               21049\n",
              "3               20490\n",
              "Bahçe katı      19065\n",
              "1               18187\n",
              "4               13416\n",
              "5               12495\n",
              "Giriş Katı      10431\n",
              "5                8698\n",
              "6                5116\n",
              "Kot 1            5036\n",
              "Kot 2            4987\n",
              "2                4950\n",
              "9                4855\n",
              "6                4631\n",
              "8                4608\n",
              "7                4398\n",
              "10               3863\n",
              "Kot 3            3793\n",
              "Çatı Katı        3566\n",
              "Zemin Kat        3441\n",
              "7                3300\n",
              "Komple           2958\n",
              "11               2894\n",
              "12               2308\n",
              "Kot 4            2269\n",
              "13               1702\n",
              "20 ve üzeri      1563\n",
              "8                1491\n",
              "14               1328\n",
              "15                911\n",
              "En Üst Kat        894\n",
              "Bodrum Kat        815\n",
              "16                600\n",
              "17                373\n",
              "18                334\n",
              "Teras Kat         293\n",
              "19                177\n",
              "Asma Kat           12\n",
              "12                  1\n",
              "Name: floor_no, dtype: int64"
            ]
          },
          "metadata": {
            "tags": []
          },
          "execution_count": 156
        }
      ]
    },
    {
      "cell_type": "markdown",
      "metadata": {
        "id": "B1G1fXleFavk"
      },
      "source": [
        " Столбец [\"floor_no\"] мы считаем не информативным. Он может зашумить нашу модель и данные. Поэтому принимаем решение удалить его."
      ]
    },
    {
      "cell_type": "code",
      "metadata": {
        "id": "tJ5m0QBDFavk"
      },
      "source": [
        "df.drop(\"floor_no\", axis =1, inplace = True)"
      ],
      "execution_count": null,
      "outputs": []
    },
    {
      "cell_type": "markdown",
      "metadata": {
        "id": "3PVcHA6RFavk"
      },
      "source": [
        "Переходим к следующему признаку - size"
      ]
    },
    {
      "cell_type": "code",
      "metadata": {
        "colab": {
          "base_uri": "https://localhost:8080/"
        },
        "id": "Wm1upqkTFavk",
        "outputId": "9b238d2c-50dd-4cb1-c8a0-7bba33bba0a9"
      },
      "source": [
        "df[\"size\"].value_counts()"
      ],
      "execution_count": null,
      "outputs": [
        {
          "output_type": "execute_result",
          "data": {
            "text/plain": [
              "90.0       16803\n",
              "100.0      16234\n",
              "120.0      15543\n",
              "110.0      13546\n",
              "80.0       11094\n",
              "           ...  \n",
              "1736.0         1\n",
              "447.0          1\n",
              "891.0          1\n",
              "1385.0         1\n",
              "42262.0        1\n",
              "Name: size, Length: 943, dtype: int64"
            ]
          },
          "metadata": {
            "tags": []
          },
          "execution_count": 158
        }
      ]
    },
    {
      "cell_type": "code",
      "metadata": {
        "id": "ZTEtK5YiFavk"
      },
      "source": [
        "quant = df[\"size\"].quantile(0.9)# считаем квантиль 90 %\n",
        "quant_low = df[\"size\"].quantile(0.1)# считаем квантиль 10 %"
      ],
      "execution_count": null,
      "outputs": []
    },
    {
      "cell_type": "code",
      "metadata": {
        "id": "-W-2Edp1Favl"
      },
      "source": [
        "df_new = df[df[\"size\"] < quant] # убираем выбросы по квантилю\n",
        "df_new = df_new[df_new[\"size\"] > quant_low] # убираем выбросы по квантилю"
      ],
      "execution_count": null,
      "outputs": []
    },
    {
      "cell_type": "code",
      "metadata": {
        "colab": {
          "base_uri": "https://localhost:8080/",
          "height": 282
        },
        "id": "i3mp58IBFavl",
        "outputId": "9be72399-ae02-4fae-99d3-5b8613cd0063"
      },
      "source": [
        "df_new.boxplot(\"size\") # строим ящик с усами и показываем, что выбросов практически нет"
      ],
      "execution_count": null,
      "outputs": [
        {
          "output_type": "execute_result",
          "data": {
            "text/plain": [
              "<matplotlib.axes._subplots.AxesSubplot at 0x7fc7e0138710>"
            ]
          },
          "metadata": {
            "tags": []
          },
          "execution_count": 161
        },
        {
          "output_type": "display_data",
          "data": {
            "image/png": "[encoded data removed]",
            "text/plain": [
              "<Figure size 432x288 with 1 Axes>"
            ]
          },
          "metadata": {
            "tags": []
          }
        }
      ]
    },
    {
      "cell_type": "code",
      "metadata": {
        "colab": {
          "base_uri": "https://localhost:8080/"
        },
        "id": "K-ucbqRJFavl",
        "outputId": "f2649d37-ce9c-4680-d61c-5b488b64cfdb"
      },
      "source": [
        "df_new[df_new[\"size\"] < quant][\"size\"].max() # считаем максимум"
      ],
      "execution_count": null,
      "outputs": [
        {
          "output_type": "execute_result",
          "data": {
            "text/plain": [
              "184.0"
            ]
          },
          "metadata": {
            "tags": []
          },
          "execution_count": 162
        }
      ]
    },
    {
      "cell_type": "code",
      "metadata": {
        "colab": {
          "base_uri": "https://localhost:8080/"
        },
        "id": "BrMhyFaBFavl",
        "outputId": "2a01868c-933e-404a-dff1-3525a30a7c1a"
      },
      "source": [
        "df_new[\"size\"].value_counts()"
      ],
      "execution_count": null,
      "outputs": [
        {
          "output_type": "execute_result",
          "data": {
            "text/plain": [
              "90.0     16803\n",
              "100.0    16234\n",
              "120.0    15543\n",
              "110.0    13546\n",
              "80.0     11094\n",
              "         ...  \n",
              "141.0       54\n",
              "173.0       52\n",
              "182.0       49\n",
              "171.0       36\n",
              "181.0       26\n",
              "Name: size, Length: 117, dtype: int64"
            ]
          },
          "metadata": {
            "tags": []
          },
          "execution_count": 163
        }
      ]
    },
    {
      "cell_type": "code",
      "metadata": {
        "colab": {
          "base_uri": "https://localhost:8080/"
        },
        "id": "QPORZXkwFavl",
        "outputId": "81be7a72-bc1a-4d07-99a5-a57cfafcbea1"
      },
      "source": [
        "df_new.isna().sum() # пустых значений нет"
      ],
      "execution_count": null,
      "outputs": [
        {
          "output_type": "execute_result",
          "data": {
            "text/plain": [
              "id                       0\n",
              "type                     0\n",
              "sub_type                 0\n",
              "listing_type             0\n",
              "tom                      0\n",
              "building_age             0\n",
              "total_floor_count        0\n",
              "room_count               0\n",
              "size                     0\n",
              "address                  0\n",
              "heating_type         10060\n",
              "price                   87\n",
              "price_currency          87\n",
              "dtype: int64"
            ]
          },
          "metadata": {
            "tags": []
          },
          "execution_count": 164
        }
      ]
    },
    {
      "cell_type": "markdown",
      "metadata": {
        "id": "PKsynWXRFavm"
      },
      "source": [
        "Теперь этот признак хороший!"
      ]
    },
    {
      "cell_type": "code",
      "metadata": {
        "colab": {
          "base_uri": "https://localhost:8080/"
        },
        "id": "2nt4GHgNFavm",
        "outputId": "91e58326-07cc-4cb5-c079-8c0aa5c5e9ac"
      },
      "source": [
        "df_new.info()"
      ],
      "execution_count": null,
      "outputs": [
        {
          "output_type": "stream",
          "text": [
            "<class 'pandas.core.frame.DataFrame'>\n",
            "Int64Index: 205562 entries, 0 to 403486\n",
            "Data columns (total 13 columns):\n",
            " #   Column             Non-Null Count   Dtype  \n",
            "---  ------             --------------   -----  \n",
            " 0   id                 205562 non-null  int64  \n",
            " 1   type               205562 non-null  object \n",
            " 2   sub_type           205562 non-null  object \n",
            " 3   listing_type       205562 non-null  int64  \n",
            " 4   tom                205562 non-null  int64  \n",
            " 5   building_age       205562 non-null  int64  \n",
            " 6   total_floor_count  205562 non-null  int64  \n",
            " 7   room_count         205562 non-null  object \n",
            " 8   size               205562 non-null  float64\n",
            " 9   address            205562 non-null  object \n",
            " 10  heating_type       195502 non-null  object \n",
            " 11  price              205475 non-null  float64\n",
            " 12  price_currency     205475 non-null  object \n",
            "dtypes: float64(2), int64(5), object(6)\n",
            "memory usage: 22.0+ MB\n"
          ],
          "name": "stdout"
        }
      ]
    },
    {
      "cell_type": "code",
      "metadata": {
        "colab": {
          "base_uri": "https://localhost:8080/"
        },
        "id": "eDrO-mLHFavm",
        "outputId": "5041ed9c-7d02-4361-8ff1-398be3e806b1"
      },
      "source": [
        "df_new[\"heating_type\"].value_counts()"
      ],
      "execution_count": null,
      "outputs": [
        {
          "output_type": "execute_result",
          "data": {
            "text/plain": [
              "Kombi (Doğalgaz)                   108393\n",
              "Klima                               34552\n",
              "Merkezi Sistem (Isı Payı Ölçer)     15281\n",
              "Merkezi Sistem                      11682\n",
              "Kalorifer (Doğalgaz)                 6454\n",
              "Soba (Kömür)                         4470\n",
              "Yerden Isıtma                        2934\n",
              "Yok                                  2896\n",
              "Kat Kaloriferi                       2827\n",
              "Kombi (Elektrikli)                   1792\n",
              "Soba (Doğalgaz)                      1489\n",
              "Güneş Enerjisi                        875\n",
              "Jeotermal                             779\n",
              "Kalorifer (Kömür)                     738\n",
              "Kalorifer (Akaryakıt)                 183\n",
              "Fancoil                               157\n",
              "Name: heating_type, dtype: int64"
            ]
          },
          "metadata": {
            "tags": []
          },
          "execution_count": 166
        }
      ]
    },
    {
      "cell_type": "code",
      "metadata": {
        "id": "ZdK-ibHxFavm"
      },
      "source": [
        "df_new[\"heating_type\"].fillna(\"Kombi (Doğalgaz)\", inplace = True) # заменяем пропуски на часто встречаемое"
      ],
      "execution_count": null,
      "outputs": []
    },
    {
      "cell_type": "code",
      "metadata": {
        "id": "UjSGig6vFavm"
      },
      "source": [
        "df_new[\"heating_type\"] = le.fit_transform(df_new[\"heating_type\"]) # кодируем переменную"
      ],
      "execution_count": null,
      "outputs": []
    },
    {
      "cell_type": "code",
      "metadata": {
        "colab": {
          "base_uri": "https://localhost:8080/"
        },
        "id": "2myRE8n8Favn",
        "outputId": "b99c7655-df12-41de-abfb-4b7302c91233"
      },
      "source": [
        "df_new[\"heating_type\"].value_counts()"
      ],
      "execution_count": null,
      "outputs": [
        {
          "output_type": "execute_result",
          "data": {
            "text/plain": [
              "8     118453\n",
              "7      34552\n",
              "11     15281\n",
              "10     11682\n",
              "4       6454\n",
              "13      4470\n",
              "14      2934\n",
              "15      2896\n",
              "6       2827\n",
              "9       1792\n",
              "12      1489\n",
              "1        875\n",
              "2        779\n",
              "5        738\n",
              "3        183\n",
              "0        157\n",
              "Name: heating_type, dtype: int64"
            ]
          },
          "metadata": {
            "tags": []
          },
          "execution_count": 169
        }
      ]
    },
    {
      "cell_type": "markdown",
      "metadata": {
        "id": "OGJ8QcPfFavn"
      },
      "source": [
        "Переходим к признаку price"
      ]
    },
    {
      "cell_type": "code",
      "metadata": {
        "colab": {
          "base_uri": "https://localhost:8080/"
        },
        "id": "Uqfp3QdzFavn",
        "outputId": "76206d5e-f417-4f4f-825b-d88f8573cdde"
      },
      "source": [
        "df_new['price'].value_counts()"
      ],
      "execution_count": null,
      "outputs": [
        {
          "output_type": "execute_result",
          "data": {
            "text/plain": [
              "1000.0      4461\n",
              "1500.0      3029\n",
              "1200.0      2920\n",
              "1100.0      2714\n",
              "800.0       2625\n",
              "            ... \n",
              "4999.0         1\n",
              "451000.0       1\n",
              "319900.0       1\n",
              "79900.0        1\n",
              "0.0            1\n",
              "Name: price, Length: 2441, dtype: int64"
            ]
          },
          "metadata": {
            "tags": []
          },
          "execution_count": 170
        }
      ]
    },
    {
      "cell_type": "code",
      "metadata": {
        "id": "x91W8AUJFavn"
      },
      "source": [
        "df_new[\"price\"].fillna(df_new[\"price\"].median(), inplace = True)"
      ],
      "execution_count": null,
      "outputs": []
    },
    {
      "cell_type": "markdown",
      "metadata": {
        "id": "hh9AtY8xFavn"
      },
      "source": [
        "Вывод: столбец price содержит большое количество выбросов. Мы не можем взять его для нашей модели классификации."
      ]
    },
    {
      "cell_type": "code",
      "metadata": {
        "colab": {
          "base_uri": "https://localhost:8080/"
        },
        "id": "ufolwKhuFavo",
        "outputId": "ad76b28e-1297-4f4e-e6fd-3fe6816184a2"
      },
      "source": [
        "df_new[\"price_currency\"].value_counts()"
      ],
      "execution_count": null,
      "outputs": [
        {
          "output_type": "execute_result",
          "data": {
            "text/plain": [
              "TRY    205016\n",
              "EUR       201\n",
              "GBP       200\n",
              "USD        58\n",
              "Name: price_currency, dtype: int64"
            ]
          },
          "metadata": {
            "tags": []
          },
          "execution_count": 172
        }
      ]
    },
    {
      "cell_type": "markdown",
      "metadata": {
        "id": "s78kseiVFavo"
      },
      "source": [
        "Заменим пустые значения самым часто-встречающимся."
      ]
    },
    {
      "cell_type": "code",
      "metadata": {
        "id": "iMXmNiScFavo"
      },
      "source": [
        "df_new[\"price_currency\"].fillna(\"TRY\", inplace = True)"
      ],
      "execution_count": null,
      "outputs": []
    },
    {
      "cell_type": "markdown",
      "metadata": {
        "id": "tRDUOm5oFavp"
      },
      "source": [
        "кодируем значения столбца с помощью LabelEncodera"
      ]
    },
    {
      "cell_type": "code",
      "metadata": {
        "id": "KCeHiJ1FFavp"
      },
      "source": [
        "df_new[\"price_currency\"] = le.fit_transform(df_new[\"price_currency\"])"
      ],
      "execution_count": null,
      "outputs": []
    },
    {
      "cell_type": "code",
      "metadata": {
        "colab": {
          "base_uri": "https://localhost:8080/"
        },
        "id": "Pq8kZ2jvFavp",
        "outputId": "57cc1b2f-b57e-41a1-f558-af902babec28"
      },
      "source": [
        "df_new.info()"
      ],
      "execution_count": null,
      "outputs": [
        {
          "output_type": "stream",
          "text": [
            "<class 'pandas.core.frame.DataFrame'>\n",
            "Int64Index: 205562 entries, 0 to 403486\n",
            "Data columns (total 13 columns):\n",
            " #   Column             Non-Null Count   Dtype  \n",
            "---  ------             --------------   -----  \n",
            " 0   id                 205562 non-null  int64  \n",
            " 1   type               205562 non-null  object \n",
            " 2   sub_type           205562 non-null  object \n",
            " 3   listing_type       205562 non-null  int64  \n",
            " 4   tom                205562 non-null  int64  \n",
            " 5   building_age       205562 non-null  int64  \n",
            " 6   total_floor_count  205562 non-null  int64  \n",
            " 7   room_count         205562 non-null  object \n",
            " 8   size               205562 non-null  float64\n",
            " 9   address            205562 non-null  object \n",
            " 10  heating_type       205562 non-null  int64  \n",
            " 11  price              205562 non-null  float64\n",
            " 12  price_currency     205562 non-null  int64  \n",
            "dtypes: float64(2), int64(7), object(4)\n",
            "memory usage: 22.0+ MB\n"
          ],
          "name": "stdout"
        }
      ]
    },
    {
      "cell_type": "markdown",
      "metadata": {
        "id": "Aetd5Z9rFavp"
      },
      "source": [
        "Переходим к столбцу type"
      ]
    },
    {
      "cell_type": "code",
      "metadata": {
        "colab": {
          "base_uri": "https://localhost:8080/"
        },
        "id": "mL-0841-Favp",
        "outputId": "6341d045-06a4-4932-bc27-c38cd239cca5"
      },
      "source": [
        "df_new[\"type\"].value_counts()"
      ],
      "execution_count": null,
      "outputs": [
        {
          "output_type": "execute_result",
          "data": {
            "text/plain": [
              "Konut    205562\n",
              "Name: type, dtype: int64"
            ]
          },
          "metadata": {
            "tags": []
          },
          "execution_count": 176
        }
      ]
    },
    {
      "cell_type": "markdown",
      "metadata": {
        "id": "v8P1yHEfFavq"
      },
      "source": [
        "Так как в столбце type лишь одно уникальное значение, мы его можем удалить из данных"
      ]
    },
    {
      "cell_type": "code",
      "metadata": {
        "id": "0ZBhxUgcFavq"
      },
      "source": [
        "df_new.drop(\"type\", axis = 1, inplace = True)"
      ],
      "execution_count": null,
      "outputs": []
    },
    {
      "cell_type": "markdown",
      "metadata": {
        "id": "rJBGWCoXFavq"
      },
      "source": [
        "Переходим к столбцу sub_type"
      ]
    },
    {
      "cell_type": "code",
      "metadata": {
        "colab": {
          "base_uri": "https://localhost:8080/"
        },
        "id": "oEEf9GThFavq",
        "outputId": "fc14aa4c-1266-4413-dfb8-488ae9f14416"
      },
      "source": [
        "df_new[\"sub_type\"].value_counts()"
      ],
      "execution_count": null,
      "outputs": [
        {
          "output_type": "execute_result",
          "data": {
            "text/plain": [
              "Daire                  188440\n",
              "Villa                    6226\n",
              "Müstakil Ev              3629\n",
              "Yazlık                   3031\n",
              "Rezidans                 3016\n",
              "Komple Bina               652\n",
              "Prefabrik Ev              309\n",
              "Yalı Dairesi               81\n",
              "Çiftlik Evi                80\n",
              "Kooperatif                 50\n",
              "Köşk / Konak / Yalı        32\n",
              "Loft                       16\n",
              "Name: sub_type, dtype: int64"
            ]
          },
          "metadata": {
            "tags": []
          },
          "execution_count": 178
        }
      ]
    },
    {
      "cell_type": "markdown",
      "metadata": {
        "id": "_MsJlYtIFavq"
      },
      "source": [
        "Закодируем переменную с помощью кодировщика"
      ]
    },
    {
      "cell_type": "code",
      "metadata": {
        "id": "G1cNGW18Favr"
      },
      "source": [
        "df_new[\"sub_type\"] = le.fit_transform(df_new[\"sub_type\"]) # кодируем переменное"
      ],
      "execution_count": null,
      "outputs": []
    },
    {
      "cell_type": "code",
      "metadata": {
        "colab": {
          "base_uri": "https://localhost:8080/"
        },
        "id": "8nzwTa6HFavr",
        "outputId": "be243db2-a476-43c9-8b5e-82184bc094d1"
      },
      "source": [
        "df_new[\"sub_type\"].value_counts()"
      ],
      "execution_count": null,
      "outputs": [
        {
          "output_type": "execute_result",
          "data": {
            "text/plain": [
              "0     188440\n",
              "8       6226\n",
              "5       3629\n",
              "10      3031\n",
              "7       3016\n",
              "1        652\n",
              "6        309\n",
              "9         81\n",
              "11        80\n",
              "2         50\n",
              "3         32\n",
              "4         16\n",
              "Name: sub_type, dtype: int64"
            ]
          },
          "metadata": {
            "tags": []
          },
          "execution_count": 180
        }
      ]
    },
    {
      "cell_type": "markdown",
      "metadata": {
        "id": "VD66-BWKFavr"
      },
      "source": [
        "Переходим к признаку listing_type\n",
        "\n",
        "Смотрим на распределение по уникальным"
      ]
    },
    {
      "cell_type": "code",
      "metadata": {
        "colab": {
          "base_uri": "https://localhost:8080/"
        },
        "id": "IIXrEqYsFavs",
        "outputId": "fde80625-eb6f-40c1-9cd6-c029e6f9a90d"
      },
      "source": [
        "df_new[\"listing_type\"].value_counts()"
      ],
      "execution_count": null,
      "outputs": [
        {
          "output_type": "execute_result",
          "data": {
            "text/plain": [
              "1    148252\n",
              "2     56621\n",
              "3       689\n",
              "Name: listing_type, dtype: int64"
            ]
          },
          "metadata": {
            "tags": []
          },
          "execution_count": 181
        }
      ]
    },
    {
      "cell_type": "markdown",
      "metadata": {
        "id": "S7MCxDrqFavs"
      },
      "source": [
        "Исходя из того, что есть 3 уникальных значения мы оставляем этот столбец"
      ]
    },
    {
      "cell_type": "markdown",
      "metadata": {
        "id": "i1iw7PoSFavs"
      },
      "source": [
        "Переходим к признаку tom\n",
        "\n",
        "Смотрим на распределение по уникальным"
      ]
    },
    {
      "cell_type": "code",
      "metadata": {
        "colab": {
          "base_uri": "https://localhost:8080/"
        },
        "id": "Rk3I2sGQFavs",
        "outputId": "6df4e058-0614-498a-babd-0891ee20daf6"
      },
      "source": [
        "df_new[\"tom\"].value_counts()"
      ],
      "execution_count": null,
      "outputs": [
        {
          "output_type": "execute_result",
          "data": {
            "text/plain": [
              "30     44022\n",
              "60     11378\n",
              "0       5764\n",
              "90      4605\n",
              "61      3498\n",
              "       ...  \n",
              "166       31\n",
              "174       30\n",
              "177       26\n",
              "171       17\n",
              "178        7\n",
              "Name: tom, Length: 181, dtype: int64"
            ]
          },
          "metadata": {
            "tags": []
          },
          "execution_count": 182
        }
      ]
    },
    {
      "cell_type": "markdown",
      "metadata": {
        "id": "bqa-NA2-Favs"
      },
      "source": [
        "Исходя из того, что есть 181 уникальных значения мы оставляем этот столбец"
      ]
    },
    {
      "cell_type": "markdown",
      "metadata": {
        "id": "Cp-FEGIPFavt"
      },
      "source": [
        "Переходим к признаку room_count\n",
        "\n",
        "Смотрим на распределение по уникальным"
      ]
    },
    {
      "cell_type": "code",
      "metadata": {
        "colab": {
          "base_uri": "https://localhost:8080/"
        },
        "id": "e8SEj5cKFavt",
        "scrolled": true,
        "outputId": "a2b37845-eb6f-4a69-d337-82d95d6f881b"
      },
      "source": [
        "df_new[\"room_count\"].value_counts()"
      ],
      "execution_count": null,
      "outputs": [
        {
          "output_type": "execute_result",
          "data": {
            "text/plain": [
              "3+1     95793\n",
              "2+1     85135\n",
              "4+1     13926\n",
              "1+1      5743\n",
              "5+1      1245\n",
              "3+2      1185\n",
              "4+2      1174\n",
              "2+2       461\n",
              "+         408\n",
              "5+2       184\n",
              "1+0        97\n",
              "6+1        89\n",
              "6+2        40\n",
              "10+0       14\n",
              "6+3        14\n",
              "7+1        14\n",
              "4+3        12\n",
              "8+2         6\n",
              "7+2         5\n",
              "5+3         3\n",
              "8+1         3\n",
              "8+4         2\n",
              "9+1         2\n",
              "7+3         2\n",
              "9+3         2\n",
              "10+1        1\n",
              "9+5         1\n",
              "8+3         1\n",
              "Name: room_count, dtype: int64"
            ]
          },
          "metadata": {
            "tags": []
          },
          "execution_count": 183
        }
      ]
    },
    {
      "cell_type": "code",
      "metadata": {
        "id": "AV4v2COoFavt"
      },
      "source": [
        "df_new[\"room_count\"] = le.fit_transform(df_new[\"room_count\"])"
      ],
      "execution_count": null,
      "outputs": []
    },
    {
      "cell_type": "markdown",
      "metadata": {
        "id": "siSrqHsAFavt"
      },
      "source": [
        "Закодировали этот признак с помощью Кодировщика"
      ]
    },
    {
      "cell_type": "markdown",
      "metadata": {
        "id": "XvLkdoT9Favt"
      },
      "source": [
        "Удалим признак id"
      ]
    },
    {
      "cell_type": "code",
      "metadata": {
        "id": "JD42CmE9Favu"
      },
      "source": [
        "df_new.drop(\"id\", axis = 1, inplace = True)"
      ],
      "execution_count": null,
      "outputs": []
    },
    {
      "cell_type": "markdown",
      "metadata": {
        "id": "LnN0OFUJFavu"
      },
      "source": [
        "Переходим к признаку adress"
      ]
    },
    {
      "cell_type": "code",
      "metadata": {
        "colab": {
          "base_uri": "https://localhost:8080/"
        },
        "id": "kWnF4i9IFavu",
        "outputId": "c945e3cd-106b-417e-aa56-61b29597b3e8"
      },
      "source": [
        "df_new[\"address\"].value_counts()"
      ],
      "execution_count": null,
      "outputs": [
        {
          "output_type": "execute_result",
          "data": {
            "text/plain": [
              "Balıkesir/Edremit/Akçay              3427\n",
              "İstanbul/Beylikdüzü/Cumhuriyet       2160\n",
              "Aydın/Didim/Efeler                   2121\n",
              "İstanbul/Başakşehir/Kayabaşı         1298\n",
              "İstanbul/Bahçelievler/Siyavuşpaşa    1188\n",
              "                                     ... \n",
              "Kastamonu/Taşköprü/Tekke                1\n",
              "Mersin/Tarsus/Yaramış                   1\n",
              "Hatay/Dörtyol/Karakese                  1\n",
              "Ankara/Çankaya/Oğuzlar                  1\n",
              "Samsun/Havza/İcadiye                    1\n",
              "Name: address, Length: 6240, dtype: int64"
            ]
          },
          "metadata": {
            "tags": []
          },
          "execution_count": 186
        }
      ]
    },
    {
      "cell_type": "markdown",
      "metadata": {
        "id": "RzA6VYqfFavu"
      },
      "source": [
        "В столбце слишком много уникальных значений, что привнесет шум в нашу модель и данные. Необходимо удалить этот столбец"
      ]
    },
    {
      "cell_type": "code",
      "metadata": {
        "id": "th5N_u90Favu"
      },
      "source": [
        "df_new.drop(\"address\", axis = 1, inplace = True)"
      ],
      "execution_count": null,
      "outputs": []
    },
    {
      "cell_type": "code",
      "metadata": {
        "colab": {
          "base_uri": "https://localhost:8080/",
          "height": 419
        },
        "id": "H8zoxL3rFavu",
        "outputId": "cc788181-17d4-4b38-c166-1bfe1a913237"
      },
      "source": [
        "df_new"
      ],
      "execution_count": null,
      "outputs": [
        {
          "output_type": "execute_result",
          "data": {
            "text/html": [
              "<div>\n",
              "<style scoped>\n",
              "    .dataframe tbody tr th:only-of-type {\n",
              "        vertical-align: middle;\n",
              "    }\n",
              "\n",
              "    .dataframe tbody tr th {\n",
              "        vertical-align: top;\n",
              "    }\n",
              "\n",
              "    .dataframe thead th {\n",
              "        text-align: right;\n",
              "    }\n",
              "</style>\n",
              "<table border=\"1\" class=\"dataframe\">\n",
              "  <thead>\n",
              "    <tr style=\"text-align: right;\">\n",
              "      <th></th>\n",
              "      <th>sub_type</th>\n",
              "      <th>listing_type</th>\n",
              "      <th>tom</th>\n",
              "      <th>building_age</th>\n",
              "      <th>total_floor_count</th>\n",
              "      <th>room_count</th>\n",
              "      <th>size</th>\n",
              "      <th>heating_type</th>\n",
              "      <th>price</th>\n",
              "      <th>price_currency</th>\n",
              "    </tr>\n",
              "  </thead>\n",
              "  <tbody>\n",
              "    <tr>\n",
              "      <th>0</th>\n",
              "      <td>7</td>\n",
              "      <td>2</td>\n",
              "      <td>30</td>\n",
              "      <td>0</td>\n",
              "      <td>20</td>\n",
              "      <td>5</td>\n",
              "      <td>90.0</td>\n",
              "      <td>0</td>\n",
              "      <td>3500.0</td>\n",
              "      <td>2</td>\n",
              "    </tr>\n",
              "    <tr>\n",
              "      <th>4</th>\n",
              "      <td>7</td>\n",
              "      <td>1</td>\n",
              "      <td>30</td>\n",
              "      <td>0</td>\n",
              "      <td>20</td>\n",
              "      <td>5</td>\n",
              "      <td>90.0</td>\n",
              "      <td>0</td>\n",
              "      <td>1450000.0</td>\n",
              "      <td>2</td>\n",
              "    </tr>\n",
              "    <tr>\n",
              "      <th>6</th>\n",
              "      <td>0</td>\n",
              "      <td>2</td>\n",
              "      <td>54</td>\n",
              "      <td>0</td>\n",
              "      <td>20</td>\n",
              "      <td>7</td>\n",
              "      <td>160.0</td>\n",
              "      <td>0</td>\n",
              "      <td>3750.0</td>\n",
              "      <td>2</td>\n",
              "    </tr>\n",
              "    <tr>\n",
              "      <th>8</th>\n",
              "      <td>0</td>\n",
              "      <td>1</td>\n",
              "      <td>11</td>\n",
              "      <td>14</td>\n",
              "      <td>2</td>\n",
              "      <td>7</td>\n",
              "      <td>140.0</td>\n",
              "      <td>0</td>\n",
              "      <td>1500000.0</td>\n",
              "      <td>2</td>\n",
              "    </tr>\n",
              "    <tr>\n",
              "      <th>10</th>\n",
              "      <td>5</td>\n",
              "      <td>1</td>\n",
              "      <td>13</td>\n",
              "      <td>0</td>\n",
              "      <td>1</td>\n",
              "      <td>7</td>\n",
              "      <td>125.0</td>\n",
              "      <td>0</td>\n",
              "      <td>2450000.0</td>\n",
              "      <td>2</td>\n",
              "    </tr>\n",
              "    <tr>\n",
              "      <th>...</th>\n",
              "      <td>...</td>\n",
              "      <td>...</td>\n",
              "      <td>...</td>\n",
              "      <td>...</td>\n",
              "      <td>...</td>\n",
              "      <td>...</td>\n",
              "      <td>...</td>\n",
              "      <td>...</td>\n",
              "      <td>...</td>\n",
              "      <td>...</td>\n",
              "    </tr>\n",
              "    <tr>\n",
              "      <th>403452</th>\n",
              "      <td>0</td>\n",
              "      <td>2</td>\n",
              "      <td>7</td>\n",
              "      <td>14</td>\n",
              "      <td>4</td>\n",
              "      <td>9</td>\n",
              "      <td>165.0</td>\n",
              "      <td>8</td>\n",
              "      <td>900.0</td>\n",
              "      <td>2</td>\n",
              "    </tr>\n",
              "    <tr>\n",
              "      <th>403468</th>\n",
              "      <td>0</td>\n",
              "      <td>2</td>\n",
              "      <td>2</td>\n",
              "      <td>14</td>\n",
              "      <td>4</td>\n",
              "      <td>5</td>\n",
              "      <td>90.0</td>\n",
              "      <td>8</td>\n",
              "      <td>800.0</td>\n",
              "      <td>2</td>\n",
              "    </tr>\n",
              "    <tr>\n",
              "      <th>403475</th>\n",
              "      <td>0</td>\n",
              "      <td>1</td>\n",
              "      <td>0</td>\n",
              "      <td>14</td>\n",
              "      <td>4</td>\n",
              "      <td>7</td>\n",
              "      <td>100.0</td>\n",
              "      <td>8</td>\n",
              "      <td>600000.0</td>\n",
              "      <td>2</td>\n",
              "    </tr>\n",
              "    <tr>\n",
              "      <th>403476</th>\n",
              "      <td>0</td>\n",
              "      <td>1</td>\n",
              "      <td>16</td>\n",
              "      <td>14</td>\n",
              "      <td>4</td>\n",
              "      <td>7</td>\n",
              "      <td>110.0</td>\n",
              "      <td>8</td>\n",
              "      <td>200000.0</td>\n",
              "      <td>2</td>\n",
              "    </tr>\n",
              "    <tr>\n",
              "      <th>403486</th>\n",
              "      <td>0</td>\n",
              "      <td>1</td>\n",
              "      <td>3</td>\n",
              "      <td>14</td>\n",
              "      <td>4</td>\n",
              "      <td>7</td>\n",
              "      <td>140.0</td>\n",
              "      <td>8</td>\n",
              "      <td>210000.0</td>\n",
              "      <td>2</td>\n",
              "    </tr>\n",
              "  </tbody>\n",
              "</table>\n",
              "<p>205562 rows × 10 columns</p>\n",
              "</div>"
            ],
            "text/plain": [
              "        sub_type  listing_type  tom  ...  heating_type      price  price_currency\n",
              "0              7             2   30  ...             0     3500.0               2\n",
              "4              7             1   30  ...             0  1450000.0               2\n",
              "6              0             2   54  ...             0     3750.0               2\n",
              "8              0             1   11  ...             0  1500000.0               2\n",
              "10             5             1   13  ...             0  2450000.0               2\n",
              "...          ...           ...  ...  ...           ...        ...             ...\n",
              "403452         0             2    7  ...             8      900.0               2\n",
              "403468         0             2    2  ...             8      800.0               2\n",
              "403475         0             1    0  ...             8   600000.0               2\n",
              "403476         0             1   16  ...             8   200000.0               2\n",
              "403486         0             1    3  ...             8   210000.0               2\n",
              "\n",
              "[205562 rows x 10 columns]"
            ]
          },
          "metadata": {
            "tags": []
          },
          "execution_count": 188
        }
      ]
    },
    {
      "cell_type": "markdown",
      "metadata": {
        "id": "tjcISnTgFavv"
      },
      "source": [
        "# Модуль 2\n",
        "\n",
        "\n",
        "2.1 ОТБОР ПРИЗНАКОВ\n",
        "Необходимо определить, какие признаки имеют наибольшее влияние на классификацию объектов по возрасту недвижимости (building_age) и оставить только их для обучения. Могут остаться и все исходные признаки. Необходимо обосновать выбор признаков, оставленных для обучения.\n",
        "\n",
        "2.2 РАЗБИЕНИЕ ОБРАБОТАННЫХ ДАННЫХ НА ОБУЧАЮЩУЮ И ТЕСТИРУЮЩУЮ ВЫБОРКИ\n",
        "Необходимо определить принцип разделения данных на обучающую и тестовую выборки. Даже если вы выбираете случайное разделение данных, необходимо обосновать выбор данного принципа.\n",
        "\n",
        "2.3 КЛАССИФИФКАЦИЯ ОБЪЕКТОВ\n",
        "Необходимо выбрать модель классификации недвижимости по возрасту недвижимости (building_age), обосновать выбор модели. Необходимо обучить модель на обучающей выборке и протестировать. Необходимо предоставить показатели точности работы выбранной модели и всех рассматриваемых.\n"
      ]
    },
    {
      "cell_type": "markdown",
      "metadata": {
        "id": "ZpopCmDAFavv"
      },
      "source": [
        "## 2.1 ОТБОР ПРИЗНАКОВ\n",
        "\n",
        "Признаки были отобраны уже на предыдущем этапе.\n",
        "Можете просто еще раз продублировать всю последовательность действий.\n",
        "Также можно обучить алгоритм и построить график важности признаков и показать, что все отобранные признаки влияют на конечный результат классификации."
      ]
    },
    {
      "cell_type": "markdown",
      "metadata": {
        "id": "DvKONxB-Favv"
      },
      "source": [
        "## 2.2 РАЗБИЕНИЕ ОБРАБОТАННЫХ ДАННЫХ НА ОБУЧАЮЩУЮ И ТЕСТИРУЮЩУЮ ВЫБОРКИ"
      ]
    },
    {
      "cell_type": "code",
      "metadata": {
        "id": "pZr5PgCoFavv"
      },
      "source": [
        "X = df_new.drop(\"building_age\", axis = 1)\n",
        "y = df_new[\"building_age\"]"
      ],
      "execution_count": null,
      "outputs": []
    },
    {
      "cell_type": "code",
      "metadata": {
        "id": "FEqfo4z2Favv"
      },
      "source": [
        "from sklearn.model_selection import train_test_split\n",
        "from sklearn.metrics import classification_report"
      ],
      "execution_count": null,
      "outputs": []
    },
    {
      "cell_type": "code",
      "metadata": {
        "id": "4_wbCGlCFavv"
      },
      "source": [
        "x_train, x_test, y_train, y_test = train_test_split(X, y, test_size = 0.3, random_state = 42)"
      ],
      "execution_count": null,
      "outputs": []
    },
    {
      "cell_type": "markdown",
      "metadata": {
        "id": "uKz-Zy4CFavw"
      },
      "source": [
        "## 2.1 ОТБОР ПРИЗНАКОВ (продолжение)"
      ]
    },
    {
      "cell_type": "code",
      "metadata": {
        "id": "K6D1n4zmFavw"
      },
      "source": [
        "from xgboost import XGBClassifier, plot_importance, plot_tree"
      ],
      "execution_count": null,
      "outputs": []
    },
    {
      "cell_type": "code",
      "metadata": {
        "id": "_363k6MrFavw"
      },
      "source": [
        "xgb_cls = XGBClassifier(n_estimators = 100, learning_rate = 0.3, n_jobs = -1, random_state = 1)"
      ],
      "execution_count": null,
      "outputs": []
    },
    {
      "cell_type": "code",
      "metadata": {
        "colab": {
          "base_uri": "https://localhost:8080/"
        },
        "id": "Y9MfSJFZFavw",
        "outputId": "25377817-e452-4c2a-a57f-ae145489a751"
      },
      "source": [
        "xgb_cls.fit(x_train, y_train)"
      ],
      "execution_count": null,
      "outputs": [
        {
          "output_type": "execute_result",
          "data": {
            "text/plain": [
              "XGBClassifier(base_score=0.5, booster='gbtree', colsample_bylevel=1,\n",
              "              colsample_bynode=1, colsample_bytree=1, gamma=0,\n",
              "              learning_rate=0.3, max_delta_step=0, max_depth=3,\n",
              "              min_child_weight=1, missing=None, n_estimators=100, n_jobs=-1,\n",
              "              nthread=None, objective='multi:softprob', random_state=1,\n",
              "              reg_alpha=0, reg_lambda=1, scale_pos_weight=1, seed=None,\n",
              "              silent=None, subsample=1, verbosity=1)"
            ]
          },
          "metadata": {
            "tags": []
          },
          "execution_count": 194
        }
      ]
    },
    {
      "cell_type": "code",
      "metadata": {
        "id": "eDJLfdfbFavw"
      },
      "source": [
        "y_pred = xgb_cls.predict(x_test)"
      ],
      "execution_count": null,
      "outputs": []
    },
    {
      "cell_type": "code",
      "metadata": {
        "colab": {
          "base_uri": "https://localhost:8080/"
        },
        "id": "xVcgmb3sFavw",
        "outputId": "67be8a86-879a-4be6-c387-b7f1cfca0c5a"
      },
      "source": [
        "print(classification_report(y_test, y_pred))"
      ],
      "execution_count": null,
      "outputs": [
        {
          "output_type": "stream",
          "text": [
            "              precision    recall  f1-score   support\n",
            "\n",
            "           0       0.43      0.94      0.59     22403\n",
            "           1       0.49      0.01      0.02      2948\n",
            "           2       0.27      0.09      0.13      4970\n",
            "           3       0.24      0.14      0.18      5275\n",
            "           4       0.66      0.01      0.02      2516\n",
            "           5       0.28      0.04      0.08      3232\n",
            "           6       0.25      0.05      0.08      1794\n",
            "           7       0.52      0.01      0.03      2153\n",
            "           8       0.30      0.02      0.04       732\n",
            "           9       0.43      0.03      0.06       204\n",
            "          10       0.42      0.01      0.01      2556\n",
            "          11       0.23      0.06      0.09       119\n",
            "          12       0.25      0.00      0.00      1996\n",
            "          13       0.24      0.12      0.16      7755\n",
            "          14       0.34      0.34      0.34      3016\n",
            "\n",
            "    accuracy                           0.40     61669\n",
            "   macro avg       0.36      0.12      0.12     61669\n",
            "weighted avg       0.37      0.40      0.29     61669\n",
            "\n"
          ],
          "name": "stdout"
        }
      ]
    },
    {
      "cell_type": "code",
      "metadata": {
        "colab": {
          "base_uri": "https://localhost:8080/"
        },
        "id": "nhMcY8QcFavx",
        "outputId": "19f0a08f-6144-4e75-de7a-ef68ce7c1290"
      },
      "source": [
        "plot_importance(xgb_cls) # отбор признаков с помощью алгоритма"
      ],
      "execution_count": null,
      "outputs": [
        {
          "output_type": "execute_result",
          "data": {
            "text/plain": [
              "<matplotlib.axes._subplots.AxesSubplot at 0x7fc7e00c6250>"
            ]
          },
          "metadata": {
            "tags": []
          },
          "execution_count": 197
        },
        {
          "output_type": "display_data",
          "data": {
            "image/png": "[encoded data removed]",
            "text/plain": [
              "<Figure size 432x288 with 1 Axes>"
            ]
          },
          "metadata": {
            "tags": []
          }
        }
      ]
    },
    {
      "cell_type": "markdown",
      "metadata": {
        "id": "5MfM0gXLFavx"
      },
      "source": [
        "По графику важности признаков можно заметить, что признаки price_currency и listing_type не оказывают большого влияния на классификацию, значит, их можно удалить."
      ]
    },
    {
      "cell_type": "code",
      "metadata": {
        "id": "KsUqRXg8Favx"
      },
      "source": [
        "df_n = df_new.drop([\"price_currency\", \"listing_type\"], axis = 1)\n",
        "X = df_n.drop(\"building_age\", axis = 1)\n",
        "y = df_n[\"building_age\"]"
      ],
      "execution_count": null,
      "outputs": []
    },
    {
      "cell_type": "code",
      "metadata": {
        "id": "XXykIBEXFavx"
      },
      "source": [
        "x_train, x_test, y_train, y_test = train_test_split(X, y, test_size = 0.3, random_state = 42)"
      ],
      "execution_count": null,
      "outputs": []
    },
    {
      "cell_type": "markdown",
      "metadata": {
        "id": "0oDVYmMeFavx"
      },
      "source": [
        "## 2.3 КЛАССИФИФКАЦИЯ ОБЪЕКТОВ"
      ]
    },
    {
      "cell_type": "code",
      "metadata": {
        "id": "PzhDY89PFavx"
      },
      "source": [
        "from xgboost import XGBClassifier, plot_importance, plot_tree"
      ],
      "execution_count": null,
      "outputs": []
    },
    {
      "cell_type": "code",
      "metadata": {
        "id": "hw6vX4x3Favy"
      },
      "source": [
        "xgb_cls = XGBClassifier(n_estimators = 100, learning_rate = 0.3, n_jobs = -1, random_state = 1)"
      ],
      "execution_count": null,
      "outputs": []
    },
    {
      "cell_type": "code",
      "metadata": {
        "colab": {
          "background_save": true
        },
        "id": "fo1b5736Favy",
        "outputId": "92f02c24-d120-44e0-9035-a98ba2b58f13"
      },
      "source": [
        "xgb_cls.fit(x_train, y_train)"
      ],
      "execution_count": null,
      "outputs": [
        {
          "output_type": "execute_result",
          "data": {
            "text/plain": [
              "XGBClassifier(base_score=0.5, booster='gbtree', colsample_bylevel=1,\n",
              "              colsample_bynode=1, colsample_bytree=1, gamma=0,\n",
              "              learning_rate=0.3, max_delta_step=0, max_depth=3,\n",
              "              min_child_weight=1, missing=None, n_estimators=100, n_jobs=-1,\n",
              "              nthread=None, objective='multi:softprob', random_state=1,\n",
              "              reg_alpha=0, reg_lambda=1, scale_pos_weight=1, seed=None,\n",
              "              silent=None, subsample=1, verbosity=1)"
            ]
          },
          "metadata": {
            "tags": []
          },
          "execution_count": 0
        }
      ]
    },
    {
      "cell_type": "code",
      "metadata": {
        "colab": {
          "background_save": true
        },
        "id": "TkLpCALpFavy"
      },
      "source": [
        "y_pred = xgb_cls.predict(x_test)"
      ],
      "execution_count": null,
      "outputs": []
    },
    {
      "cell_type": "code",
      "metadata": {
        "colab": {
          "background_save": true
        },
        "id": "xyKANvr4Favy",
        "outputId": "7ef2790d-6840-4aea-fd7b-520604d742fd"
      },
      "source": [
        "print(classification_report(y_test, y_pred))"
      ],
      "execution_count": null,
      "outputs": [
        {
          "output_type": "stream",
          "text": [
            "              precision    recall  f1-score   support\n",
            "\n",
            "           0       0.43      0.94      0.59     22403\n",
            "           1       0.45      0.01      0.02      2948\n",
            "           2       0.26      0.09      0.13      4970\n",
            "           3       0.24      0.14      0.18      5275\n",
            "           4       0.62      0.01      0.02      2516\n",
            "           5       0.30      0.04      0.08      3232\n",
            "           6       0.24      0.04      0.08      1794\n",
            "           7       0.50      0.01      0.03      2153\n",
            "           8       0.26      0.02      0.04       732\n",
            "           9       0.58      0.03      0.06       204\n",
            "          10       0.34      0.01      0.01      2556\n",
            "          11       0.26      0.05      0.08       119\n",
            "          12       0.73      0.00      0.01      1996\n",
            "          13       0.24      0.12      0.16      7755\n",
            "          14       0.34      0.34      0.34      3016\n",
            "\n",
            "    accuracy                           0.40     61669\n",
            "   macro avg       0.39      0.12      0.12     61669\n",
            "weighted avg       0.37      0.40      0.29     61669\n",
            "\n"
          ],
          "name": "stdout"
        }
      ]
    },
    {
      "cell_type": "code",
      "metadata": {
        "colab": {
          "background_save": true
        },
        "id": "pP0icFh2Favy",
        "outputId": "013c81c9-40e1-4d63-9a2f-0cda10851383"
      },
      "source": [
        "plot_importance(xgb_cls) # отбор признаков с помощью алгоритма"
      ],
      "execution_count": null,
      "outputs": [
        {
          "output_type": "execute_result",
          "data": {
            "text/plain": [
              "<matplotlib.axes._subplots.AxesSubplot at 0x7fc7e0008a90>"
            ]
          },
          "metadata": {
            "tags": []
          },
          "execution_count": 0
        },
        {
          "output_type": "display_data",
          "data": {
            "image/png": "[encoded data removed]",
            "text/plain": [
              "<Figure size 432x288 with 1 Axes>"
            ]
          },
          "metadata": {
            "tags": []
          }
        }
      ]
    },
    {
      "cell_type": "markdown",
      "metadata": {
        "id": "tGEvSDovFavz"
      },
      "source": [
        "# Модуль 3"
      ]
    },
    {
      "cell_type": "markdown",
      "metadata": {
        "id": "HXosks0SFavz"
      },
      "source": [
        "3.1 ОТБОР ПРИЗНАКОВ\n",
        "Необходимо определить, какие признаки имеют наибольшее влияние цены на недвижимость (price) и оставить только их для обучения. Могут остаться и все исходные признаки. Необходимо обосновать выбор признаков, оставленных для обучения.\n",
        "\n",
        "3.2 РАЗБИЕНИЕ ДАННЫХ НА ОБУЧАЮЩУЮ И ТЕСТИРУЮЩУЮ ВЫБОРКИ\n",
        "Необходимо определить принцип разделения данных на обучающую и тестирующую выборки. Даже если вы выбираете случайное разделение данных, необходимо обосновать выбор данного принципа.\n",
        "\n",
        "3.3 ПРОГНОЗИРОВАНИЕ\n",
        "Необходимо выбрать модель прогнозирования цен на недвижимость (price), обосновать выбор модели. Необходимо обучить модель на обучающей выборке и протестировать. После тестирования необходимо оценить точность работы выбранной модели.\n"
      ]
    },
    {
      "cell_type": "markdown",
      "metadata": {
        "id": "ODxzn-dqFavz"
      },
      "source": [
        "## 3.1 ОТБОР ПРИЗНАКОВ"
      ]
    },
    {
      "cell_type": "markdown",
      "metadata": {
        "id": "226H2HtAFavz"
      },
      "source": [
        "## 3.2 РАЗБИЕНИЕ ДАННЫХ НА ОБУЧАЮЩУЮ И ТЕСТИРУЮЩУЮ ВЫБОРКИ"
      ]
    },
    {
      "cell_type": "code",
      "metadata": {
        "colab": {
          "background_save": true
        },
        "id": "VWTVx6ksX_Y-",
        "outputId": "2bd883ea-4e5d-4a0e-a76e-0e834fa88c18"
      },
      "source": [
        "sns.boxplot(df_new.price)"
      ],
      "execution_count": null,
      "outputs": [
        {
          "output_type": "execute_result",
          "data": {
            "text/plain": [
              "<matplotlib.axes._subplots.AxesSubplot at 0x7fc7dff9a450>"
            ]
          },
          "metadata": {
            "tags": []
          },
          "execution_count": 0
        },
        {
          "output_type": "display_data",
          "data": {
            "image/png": "[encoded data removed]",
            "text/plain": [
              "<Figure size 432x288 with 1 Axes>"
            ]
          },
          "metadata": {
            "tags": []
          }
        }
      ]
    },
    {
      "cell_type": "code",
      "metadata": {
        "colab": {
          "background_save": true
        },
        "id": "_RiMT4Q8YPes"
      },
      "source": [
        "quant = df_new[\"price\"].quantile(0.6)# считаем квантиль 90 %\n",
        "quant_low = df_new[\"price\"].quantile(0.01)# считаем квантиль 10 %"
      ],
      "execution_count": null,
      "outputs": []
    },
    {
      "cell_type": "code",
      "metadata": {
        "colab": {
          "background_save": true
        },
        "id": "__O8No6qYPet"
      },
      "source": [
        "df2 = df_new[df_new[\"price\"] < quant] # убираем выбросы по квантилю\n",
        "df2 = df2[df2[\"price\"] > quant_low] # убираем выбросы по квантилю"
      ],
      "execution_count": null,
      "outputs": []
    },
    {
      "cell_type": "code",
      "metadata": {
        "colab": {
          "background_save": true
        },
        "id": "0f3FA368YpR3",
        "outputId": "183b9aff-9f56-4358-bb76-d85068617cb9"
      },
      "source": [
        "sns.boxplot(df2.price)"
      ],
      "execution_count": null,
      "outputs": [
        {
          "output_type": "execute_result",
          "data": {
            "text/plain": [
              "<matplotlib.axes._subplots.AxesSubplot at 0x7fc7dfef5bd0>"
            ]
          },
          "metadata": {
            "tags": []
          },
          "execution_count": 0
        },
        {
          "output_type": "display_data",
          "data": {
            "image/png": "[encoded data removed]",
            "text/plain": [
              "<Figure size 432x288 with 1 Axes>"
            ]
          },
          "metadata": {
            "tags": []
          }
        }
      ]
    },
    {
      "cell_type": "code",
      "metadata": {
        "colab": {
          "background_save": true
        },
        "id": "fr3zBgVgaC0s"
      },
      "source": [
        "X = df2.drop(\"price\", axis = 1)\n",
        "y = df2[\"price\"]"
      ],
      "execution_count": null,
      "outputs": []
    },
    {
      "cell_type": "code",
      "metadata": {
        "colab": {
          "background_save": true
        },
        "id": "RATXHrvSFavz"
      },
      "source": [
        "from sklearn.model_selection import train_test_split\n",
        "from sklearn.metrics import mean_squared_error, r2_score"
      ],
      "execution_count": null,
      "outputs": []
    },
    {
      "cell_type": "code",
      "metadata": {
        "colab": {
          "background_save": true
        },
        "id": "tNUKi_C3Fav0"
      },
      "source": [
        "x_train, x_test, y_train, y_test = train_test_split(X, y, test_size = 0.3, random_state = 42)"
      ],
      "execution_count": null,
      "outputs": []
    },
    {
      "cell_type": "markdown",
      "metadata": {
        "id": "WWUXZtHrFav0"
      },
      "source": [
        "## 3.3 ПРОГНОЗИРОВАНИЕ"
      ]
    },
    {
      "cell_type": "code",
      "metadata": {
        "colab": {
          "background_save": true
        },
        "id": "b3eSna1yFav0"
      },
      "source": [
        "from xgboost import XGBRegressor"
      ],
      "execution_count": null,
      "outputs": []
    },
    {
      "cell_type": "code",
      "metadata": {
        "colab": {
          "background_save": true
        },
        "id": "BlYPCNyzFav0"
      },
      "source": [
        "xgb_regr = XGBRegressor(n_estimators = 1000, learning_rate = 0.1, n_jobs = -1, random_state = 1)"
      ],
      "execution_count": null,
      "outputs": []
    },
    {
      "cell_type": "code",
      "metadata": {
        "colab": {
          "background_save": true
        },
        "id": "4z3Ou9Y2Fav0",
        "outputId": "02752c86-8622-424f-9814-211eb716281d"
      },
      "source": [
        "xgb_regr.fit(x_train, y_train)"
      ],
      "execution_count": null,
      "outputs": [
        {
          "output_type": "stream",
          "text": [
            "[06:32:33] WARNING: /workspace/src/objective/regression_obj.cu:152: reg:linear is now deprecated in favor of reg:squarederror.\n"
          ],
          "name": "stdout"
        },
        {
          "output_type": "execute_result",
          "data": {
            "text/plain": [
              "XGBRegressor(base_score=0.5, booster='gbtree', colsample_bylevel=1,\n",
              "             colsample_bynode=1, colsample_bytree=1, gamma=0,\n",
              "             importance_type='gain', learning_rate=0.1, max_delta_step=0,\n",
              "             max_depth=3, min_child_weight=1, missing=None, n_estimators=1000,\n",
              "             n_jobs=-1, nthread=None, objective='reg:linear', random_state=1,\n",
              "             reg_alpha=0, reg_lambda=1, scale_pos_weight=1, seed=None,\n",
              "             silent=None, subsample=1, verbosity=1)"
            ]
          },
          "metadata": {
            "tags": []
          },
          "execution_count": 0
        }
      ]
    },
    {
      "cell_type": "code",
      "metadata": {
        "colab": {
          "background_save": true
        },
        "id": "gKULq-OOFav0"
      },
      "source": [
        "y_pred = xgb_regr.predict(x_test)"
      ],
      "execution_count": null,
      "outputs": []
    },
    {
      "cell_type": "code",
      "metadata": {
        "colab": {
          "background_save": true
        },
        "id": "QMasuC7PFav1",
        "outputId": "a93fceb5-a48c-4dfa-c458-0bd3df18093b"
      },
      "source": [
        "np.sqrt(mean_squared_error(y_test, y_pred))"
      ],
      "execution_count": null,
      "outputs": [
        {
          "output_type": "execute_result",
          "data": {
            "text/plain": [
              "28624.117963550816"
            ]
          },
          "metadata": {
            "tags": []
          },
          "execution_count": 0
        }
      ]
    },
    {
      "cell_type": "code",
      "metadata": {
        "colab": {
          "background_save": true
        },
        "id": "8eVSCeahFav1",
        "outputId": "3b2c1e77-1c9e-46f8-a5f0-f61ce6b18bad"
      },
      "source": [
        "r2_score(y_test, y_pred)"
      ],
      "execution_count": null,
      "outputs": [
        {
          "output_type": "execute_result",
          "data": {
            "text/plain": [
              "0.8993841922825969"
            ]
          },
          "metadata": {
            "tags": []
          },
          "execution_count": 0
        }
      ]
    },
    {
      "cell_type": "code",
      "metadata": {
        "colab": {
          "background_save": true
        },
        "id": "etmDZRPZFav1"
      },
      "source": [],
      "execution_count": null,
      "outputs": []
    }
  ]
}